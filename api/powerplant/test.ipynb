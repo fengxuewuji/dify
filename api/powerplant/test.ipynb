{
 "cells": [
  {
   "cell_type": "code",
   "execution_count": 3,
   "metadata": {},
   "outputs": [],
   "source": [
    "import pandas as pd"
   ]
  },
  {
   "cell_type": "code",
   "execution_count": 4,
   "metadata": {},
   "outputs": [],
   "source": [
    "def read_csv(file_path):\n",
    "    \"\"\"\n",
    "    Reads a CSV file and returns a DataFrame.\n",
    "    \n",
    "    Parameters:\n",
    "    file_path (str): The path to the CSV file.\n",
    "    \n",
    "    Returns:\n",
    "    pd.DataFrame: DataFrame containing the CSV data.\n",
    "    \"\"\"\n",
    "    try:\n",
    "        df = pd.read_csv(file_path)\n",
    "        return df\n",
    "    except Exception as e:\n",
    "        print(f\"Error reading the CSV file: {e}\")\n",
    "        return None"
   ]
  },
  {
   "cell_type": "code",
   "execution_count": 5,
   "metadata": {},
   "outputs": [],
   "source": [
    "df = read_csv(r'/home/zyp/power/shouguang/HCFX.csv')"
   ]
  },
  {
   "cell_type": "code",
   "execution_count": 1,
   "metadata": {},
   "outputs": [],
   "source": [
    "d = {'a': 3, 'b': 1, 'c': 2}"
   ]
  },
  {
   "cell_type": "code",
   "execution_count": 23,
   "metadata": {},
   "outputs": [
    {
     "data": {
      "text/plain": [
       "'3;1;2'"
      ]
     },
     "execution_count": 23,
     "metadata": {},
     "output_type": "execute_result"
    }
   ],
   "source": [
    "';'.join([str(i) for i in list(d.values())])\n"
   ]
  },
  {
   "cell_type": "code",
   "execution_count": 9,
   "metadata": {},
   "outputs": [
    {
     "name": "stdout",
     "output_type": "stream",
     "text": [
      "[('b', 1), ('c', 2), ('a', 3)]\n"
     ]
    }
   ],
   "source": [
    "sorted_keys = sorted(d.items(), key=lambda x: x[1])\n",
    "print(sorted_keys)"
   ]
  },
  {
   "cell_type": "code",
   "execution_count": 12,
   "metadata": {},
   "outputs": [
    {
     "name": "stdout",
     "output_type": "stream",
     "text": [
      "{'key': 'value'}\n"
     ]
    }
   ],
   "source": [
    "a = '{\"key\": \"value\"}'\n",
    "import json\n",
    "def parse_json(json_str):\n",
    "    \"\"\"\n",
    "    Parses a JSON string and returns a dictionary.\n",
    "    \n",
    "    Parameters:\n",
    "    json_str (str): The JSON string to parse.\n",
    "    \n",
    "    Returns:\n",
    "    dict: Parsed dictionary from the JSON string.\n",
    "    \"\"\"\n",
    "    try:\n",
    "        return json.loads(json_str)\n",
    "    except json.JSONDecodeError as e:\n",
    "        print(f\"Error parsing JSON: {e}\")\n",
    "        return None\n",
    "parsed_json = parse_json(a)\n",
    "if parsed_json:\n",
    "    print(parsed_json)"
   ]
  },
  {
   "cell_type": "markdown",
   "metadata": {},
   "source": [
    "# 发起POST请求"
   ]
  },
  {
   "cell_type": "markdown",
   "metadata": {},
   "source": [
    "## Step1: 获取token"
   ]
  },
  {
   "cell_type": "code",
   "execution_count": 1,
   "metadata": {},
   "outputs": [
    {
     "name": "stdout",
     "output_type": "stream",
     "text": [
      "9fe7b1c1ecdbe304371019aec904c090853968b68ca726f6f4c0405f90318bf3\n"
     ]
    }
   ],
   "source": [
    "import requests\n",
    "\n",
    "url = 'http://168.168.10.82:20001/v1/login'\n",
    "\n",
    "headers = {\n",
    "    'Content-Type': 'application/json',\n",
    "}\n",
    "\n",
    "data = {\n",
    "    \"dbName\":\"db102\",\n",
    "    \"userName\":\"user1\",\n",
    "    \"password\":\"luculent1!\"\n",
    "}\n",
    "\n",
    "response = requests.post(url, json=data, headers=headers)\n",
    "print(response.json()['token'])"
   ]
  },
  {
   "cell_type": "code",
   "execution_count": 2,
   "metadata": {},
   "outputs": [
    {
     "name": "stdout",
     "output_type": "stream",
     "text": [
      "{'code': 200, 'msg': 'success', 'token': '9fe7b1c1ecdbe304371019aec904c090853968b68ca726f6f4c0405f90318bf3'}\n"
     ]
    }
   ],
   "source": [
    "import requests\n",
    "\n",
    "url = 'http://168.168.10.82:20001/v1/login'\n",
    "\n",
    "headers = {\n",
    "    'Content-Type': 'application/json',\n",
    "}\n",
    "\n",
    "data = {\n",
    "    \"dbName\":\"db102\",\n",
    "    \"userName\":\"user1\",\n",
    "    \"password\":\"luculent1!\"\n",
    "}\n",
    "\n",
    "response = requests.post(url, json=data, headers=headers)\n",
    "# print(response.json()['token'])\n",
    "print(response.json())"
   ]
  },
  {
   "cell_type": "code",
   "execution_count": 6,
   "metadata": {},
   "outputs": [
    {
     "data": {
      "text/plain": [
       "0.8571428571428571"
      ]
     },
     "execution_count": 6,
     "metadata": {},
     "output_type": "execute_result"
    }
   ],
   "source": [
    "import difflib\n",
    "\n",
    "difflib.SequenceMatcher(None, '锅炉效率', '锅效率').ratio()"
   ]
  },
  {
   "cell_type": "code",
   "execution_count": 50,
   "metadata": {},
   "outputs": [
    {
     "name": "stdout",
     "output_type": "stream",
     "text": [
      "{\"code\":200,\"data\":[{\"JCYY:U4_RH_ZZQWD\":291.4069519042969,\"s\":1,\"t\":1749802329326},{\"JCYY:U4_MH_GTF\":6.56487318337895e-05,\"s\":1,\"t\":1749802328521}],\"msg\":\"success\"}\n"
     ]
    }
   ],
   "source": [
    "import requests\n",
    "\n",
    "url = 'http://168.168.10.82:20001/v1/getRealtimeValue'\n",
    "\n",
    "headers = {\n",
    "    'Content-Type': 'application/json',\n",
    "    # 'Content-Type': 'application/x-www-form-urlencoded',\n",
    "    # 'Authorization': '44e7d960f8e36919e1918cf2fccb077c7ef0890b940c8756edd8d24394923f78',\n",
    "    # 'token': '84e7d960f8e36919e1918cf2fccb077c7ef0890b940c8756edd8d24394923f78',\n",
    "    'token': '9fe7b1c1ecdbe304371019aec904c090853968b68ca726f6f4c0405f90318bf3',\n",
    "}\n",
    "\n",
    "data = {\n",
    "    \"dbName\":\"db102\",\n",
    "    \"tagNames\":[\n",
    "        \"JCYY:U4_RH_ZZQWD\",\n",
    "        \"JCYY:U4_MH_GTF\",\n",
    "    ]\n",
    "}\n",
    "\n",
    "response = requests.post(url, json=data, headers=headers)\n",
    "print(response.text)"
   ]
  },
  {
   "cell_type": "code",
   "execution_count": 51,
   "metadata": {},
   "outputs": [
    {
     "name": "stdout",
     "output_type": "stream",
     "text": [
      "{'code': 200, 'data': [{'JCYY:U4_RH_ZZQWD': 291.4069519042969, 's': 1, 't': 1749802329326}, {'JCYY:U4_MH_GTF': 6.56487318337895e-05, 's': 1, 't': 1749802328521}], 'msg': 'success'}\n"
     ]
    }
   ],
   "source": [
    "import json\n",
    "def parse_json_response(response_text):\n",
    "    \"\"\"\n",
    "    Parses a JSON response text and returns a dictionary.\n",
    "    \n",
    "    Parameters:\n",
    "    response_text (str): The JSON response text to parse.\n",
    "    \n",
    "    Returns:\n",
    "    dict: Parsed dictionary from the JSON response text.\n",
    "    \"\"\"\n",
    "    try:\n",
    "        return json.loads(response_text)\n",
    "    except json.JSONDecodeError as e:\n",
    "        print(f\"Error parsing JSON response: {e}\")\n",
    "        return None\n",
    "response_text = response.text\n",
    "parsed_response = parse_json_response(response_text)\n",
    "if parsed_response:\n",
    "    print(parsed_response)"
   ]
  },
  {
   "cell_type": "code",
   "execution_count": 63,
   "metadata": {},
   "outputs": [
    {
     "data": {
      "text/plain": [
       "[{'JCYY:U4_RH_ZZQWD': 291.4069519042969, 's': 1, 't': 1749802329326},\n",
       " {'JCYY:U4_MH_GTF': 6.56487318337895e-05, 's': 1, 't': 1749802328521}]"
      ]
     },
     "execution_count": 63,
     "metadata": {},
     "output_type": "execute_result"
    }
   ],
   "source": [
    "parsed_response['data']"
   ]
  },
  {
   "cell_type": "code",
   "execution_count": 65,
   "metadata": {},
   "outputs": [
    {
     "name": "stdout",
     "output_type": "stream",
     "text": [
      "{'JCYY:U4_RH_ZZQWD': 291.4069519042969, 's': 1, 't': 1749802328521, 'JCYY:U4_MH_GTF': 6.56487318337895e-05}\n"
     ]
    }
   ],
   "source": [
    "all_data = {}\n",
    "for i in parsed_response['data']:\n",
    "    all_data.update(i)\n",
    "print(all_data)"
   ]
  },
  {
   "cell_type": "code",
   "execution_count": 1,
   "metadata": {},
   "outputs": [],
   "source": [
    "a = {'JCYY:U4_RH_ZZQWD': 25.0}"
   ]
  },
  {
   "cell_type": "code",
   "execution_count": 6,
   "metadata": {},
   "outputs": [
    {
     "data": {
      "text/plain": [
       "1750139425.5793056"
      ]
     },
     "execution_count": 6,
     "metadata": {},
     "output_type": "execute_result"
    }
   ],
   "source": [
    "import time\n",
    "time.time()"
   ]
  },
  {
   "cell_type": "code",
   "execution_count": null,
   "metadata": {},
   "outputs": [],
   "source": [
    "# dify 工具post\n",
    "{\n",
    "    \"openapi\": \"3.1.0\",\n",
    "    \"info\": {\n",
    "        \"title\": \"电厂运行数据工具集合\",\n",
    "        \"description\": \"一套用于获取电厂运行数据的工具集合\",\n",
    "        \"version\": \"1.0.0\"\n",
    "    },\n",
    "    \"servers\": [    \n",
    "        {\n",
    "            \"url\": \"http://172.17.32.30:6002\"\n",
    "        }\n",
    "    ],\n",
    "    \"paths\": {\n",
    "        \"/common/real\": {\n",
    "            \"post\": {\n",
    "                \"description\": \"获取给定时间段的电厂运行历史数据\",\n",
    "                \"operationId\": \"get_history_data\",\n",
    "                \"requestBody\": {\n",
    "                    \"required\": true,\n",
    "                    \"content\": {\n",
    "                        \"application/json\": {\n",
    "                            \"schema\": {\n",
    "                                \"type\": \"object\",\n",
    "                                \"properties\": \n",
    "                                      {\n",
    "                                        \"tagName\": {\n",
    "                                            \"type\": \"string\",\n",
    "                                            \"description\": \"测点名称\"\n",
    "                                        },\n",
    "                                        \"startMsTime\": {\n",
    "                                            \"type\": \"integer\",\n",
    "                                            \"description\": \"开始时间戳（毫秒）\"\n",
    "                                        },\n",
    "                                        \"endMsTime\": {\n",
    "                                            \"type\": \"integer\",\n",
    "                                            \"description\": \"结束时间戳（毫秒）\"\n",
    "                                        },\n",
    "                                        \"dataNum\": {\n",
    "                                            \"type\": \"integer\",\n",
    "                                            \"description\": \"返回数据数量，默认为12\"\n",
    "                                        }\n",
    "                                    \n",
    "                                },\n",
    "                            }\n",
    "                        }\n",
    "                    },\n",
    "                },\n",
    "                \"responses\": {\n",
    "                    \"200\": {\n",
    "                        \"description\": \"成功获取历史数据\",\n",
    "                        \"content\": {\n",
    "                            \"application/json\": {\n",
    "                                \"schema\": {\n",
    "                                    \"type\": \"object\"\n",
    "                                }\n",
    "                            }\n",
    "                        }\n",
    "                    }\n",
    "                }\n",
    "            }\n",
    "        },\n",
    "        \"/getTagNames\": {\n",
    "            \"post\": {\n",
    "                \"description\": \"根据给定关键字查询测点名称\",\n",
    "                \"operationId\": \"get_tag_names\",\n",
    "                \"requestBody\": {\n",
    "                    \"required\": true,\n",
    "                    \"content\": {\n",
    "                        \"application/json\": {\n",
    "                            \"schema\": {\n",
    "                                \"type\": \"object\",\n",
    "                                \"properties\": \n",
    "                                      {\n",
    "                                        \"keywords\": {\n",
    "                                            \"type\": \"string\",\n",
    "                                            \"description\": \"用于查询测点名称的关键字，支持模糊查询，关键字之间用逗号分割\"\n",
    "                                        },\n",
    "                                        }\n",
    "                                    \n",
    "                                },\n",
    "                            }\n",
    "                        }\n",
    "                    },\n",
    "                },\n",
    "                \"responses\": {\n",
    "                    \"200\": {\n",
    "                        \"description\": \"成功获取测点名称\",\n",
    "                        \"content\": {\n",
    "                            \"application/json\": {\n",
    "                                \"schema\": {\n",
    "                                    \"type\": \"object\"\n",
    "                                }\n",
    "                            }\n",
    "                        }\n",
    "                    }\n",
    "                }\n",
    "            }\n",
    "    }\n",
    "}"
   ]
  },
  {
   "cell_type": "code",
   "execution_count": 14,
   "metadata": {},
   "outputs": [
    {
     "data": {
      "text/plain": [
       "1750150103000"
      ]
     },
     "execution_count": 14,
     "metadata": {},
     "output_type": "execute_result"
    }
   ],
   "source": [
    "import time\n",
    "int(time.time()) * 1000"
   ]
  },
  {
   "cell_type": "code",
   "execution_count": 48,
   "metadata": {},
   "outputs": [
    {
     "data": {
      "text/html": [
       "<div>\n",
       "<style scoped>\n",
       "    .dataframe tbody tr th:only-of-type {\n",
       "        vertical-align: middle;\n",
       "    }\n",
       "\n",
       "    .dataframe tbody tr th {\n",
       "        vertical-align: top;\n",
       "    }\n",
       "\n",
       "    .dataframe thead th {\n",
       "        text-align: right;\n",
       "    }\n",
       "</style>\n",
       "<table border=\"1\" class=\"dataframe\">\n",
       "  <thead>\n",
       "    <tr style=\"text-align: right;\">\n",
       "      <th></th>\n",
       "      <th>value</th>\n",
       "    </tr>\n",
       "    <tr>\n",
       "      <th>timestamp</th>\n",
       "      <th></th>\n",
       "    </tr>\n",
       "  </thead>\n",
       "  <tbody>\n",
       "    <tr>\n",
       "      <th>2025-06-17 13:50:17</th>\n",
       "      <td>0.452152</td>\n",
       "    </tr>\n",
       "    <tr>\n",
       "      <th>2025-06-17 13:50:19</th>\n",
       "      <td>0.452152</td>\n",
       "    </tr>\n",
       "    <tr>\n",
       "      <th>2025-06-17 13:50:21</th>\n",
       "      <td>0.324346</td>\n",
       "    </tr>\n",
       "    <tr>\n",
       "      <th>2025-06-17 13:50:23</th>\n",
       "      <td>0.324346</td>\n",
       "    </tr>\n",
       "    <tr>\n",
       "      <th>2025-06-17 13:50:25</th>\n",
       "      <td>0.172335</td>\n",
       "    </tr>\n",
       "  </tbody>\n",
       "</table>\n",
       "</div>"
      ],
      "text/plain": [
       "                        value\n",
       "timestamp                    \n",
       "2025-06-17 13:50:17  0.452152\n",
       "2025-06-17 13:50:19  0.452152\n",
       "2025-06-17 13:50:21  0.324346\n",
       "2025-06-17 13:50:23  0.324346\n",
       "2025-06-17 13:50:25  0.172335"
      ]
     },
     "execution_count": 48,
     "metadata": {},
     "output_type": "execute_result"
    }
   ],
   "source": [
    "import pandas as pd\n",
    "data = {\n",
    "    1750139417000: 0.4521515965461731,\n",
    "    1750139419000: 0.4521515965461731,\n",
    "    1750139421000: 0.324346125125885,\n",
    "    1750139423000: 0.324346125125885,\n",
    "    1750139425000: 0.1723347306251526,\n",
    "}\n",
    "\n",
    "df = pd.DataFrame({'timestamp': list(data.keys()), 'value': list(data.values())})\n",
    "df['timestamp'] = pd.to_datetime(df['timestamp'] + 8 * 3600 * 1000, unit='ms').dt.strftime('%Y-%m-%d %H:%M:%S')\n",
    "df.set_index('timestamp', inplace=True)\n",
    "df"
   ]
  },
  {
   "cell_type": "code",
   "execution_count": 1,
   "metadata": {},
   "outputs": [],
   "source": [
    "import yaml"
   ]
  },
  {
   "cell_type": "code",
   "execution_count": 15,
   "metadata": {},
   "outputs": [],
   "source": [
    "with open(\"/home/zyp/codes/dify/api/powerplant/tag_names.yaml\", \"r\", encoding=\"utf-8\") as f:\n",
    "    tag_names = yaml.safe_load(f)"
   ]
  },
  {
   "cell_type": "code",
   "execution_count": 17,
   "metadata": {},
   "outputs": [
    {
     "data": {
      "text/plain": [
       "{'锅炉效率': 'JCYY:U4_MH_FGC', '汽轮机效率': 'JCYY:U4_MH_TGC'}"
      ]
     },
     "execution_count": 17,
     "metadata": {},
     "output_type": "execute_result"
    }
   ],
   "source": [
    "tag_names"
   ]
  },
  {
   "cell_type": "code",
   "execution_count": null,
   "metadata": {},
   "outputs": [
    {
     "name": "stdout",
     "output_type": "stream",
     "text": [
      "{'锅炉效率': 'JCYY:U4_MH_FGC', '汽轮机效率': 'JCYY:U4_MH_TGC'}\n"
     ]
    }
   ],
   "source": [
    "import re\n",
    "\n",
    "input = '锅炉,汽'\n",
    "formated_input = '|'.join([i.strip() for i in re.split('[,，]', input)])\n",
    "\n",
    "pattern = re.compile(formated_input)\n",
    "result = {k: v for k, v in tag_names.items() if pattern.search(k)}\n",
    "print(result)"
   ]
  },
  {
   "cell_type": "code",
   "execution_count": null,
   "metadata": {},
   "outputs": [],
   "source": [
    "2. 如果用户没有要求绘制图标，则不必绘制图标，如果用户要求绘制图标，则用线性图标绘制工具进行绘制，其中线性图表工具输入要求如下：\n",
    "1）标题：图标的标题;\n",
    "2）数据：用于生成图表的数据，数据之间用;分隔;\n",
    "3）x轴：图表的x轴，每个文本之间用;分隔。"
   ]
  },
  {
   "cell_type": "code",
   "execution_count": null,
   "metadata": {},
   "outputs": [
    {
     "name": "stdout",
     "output_type": "stream",
     "text": [
      "1750132800\n",
      "1750132800000\n"
     ]
    }
   ],
   "source": [
    "from datetime import datetime\n",
    "\n",
    "time_str = \"2025-06-17 12:00:00\"\n",
    "dt = datetime.strptime(time_str, \"%Y-%m-%d %H:%M:%S\")\n",
    "timestamp = int(dt.timestamp())  # 转换为北京时间\n",
    "print(timestamp)  # 秒级时间戳\n",
    "print(int(dt.timestamp() * 1000))  # 毫秒级时间戳"
   ]
  },
  {
   "cell_type": "code",
   "execution_count": 5,
   "metadata": {},
   "outputs": [
    {
     "data": {
      "text/plain": [
       "1750240158.9912064"
      ]
     },
     "execution_count": 5,
     "metadata": {},
     "output_type": "execute_result"
    }
   ],
   "source": [
    "import time\n",
    "time.time()"
   ]
  },
  {
   "cell_type": "code",
   "execution_count": null,
   "metadata": {},
   "outputs": [
    {
     "data": {
      "text/plain": [
       "datetime.datetime(2025, 6, 18, 17, 48, 39, 105178)"
      ]
     },
     "execution_count": 3,
     "metadata": {},
     "output_type": "execute_result"
    }
   ],
   "source": [
    "按照以下步骤准备答复内容：\n",
    "第一步：通过调用\"获取当前时间\"工具，得到当前时间。\n",
    "第二步：从用户问题分析得出所要查询数据的结束时间endTimeStr，格式为\"%Y-%m-%d %H:%M:%S\"。\n",
    "第三步：从用户的问题中提取所要查询数据的关键词，然后将关键词输入get_tag_names工具得到所要查询数据的测点名称tagName。\n",
    "第四步：根据用户问题，分析得出所要查询历史数据的时长timeSpan。\n",
    "第五步：将tagName,  endTimeStr, timeSpan带入get_history_data工具，dataNum不用填，得到所需求的历史数据。\n",
    "第六步：将数据以表格形式答复给用户。"
   ]
  },
  {
   "cell_type": "code",
   "execution_count": null,
   "metadata": {},
   "outputs": [],
   "source": [
    "第五步：将tagName,  endTimeStr, timeSpan的数值以json格式答复给客户。\n",
    "注意：只需要答复tagName,  endTimeStr, timeSpan的数值，不需要答复其他内容。"
   ]
  },
  {
   "cell_type": "code",
   "execution_count": 14,
   "metadata": {},
   "outputs": [
    {
     "data": {
      "text/plain": [
       "{'tagName': 'JCYY:U4_BOILER_EFF',\n",
       " 'endTimeStr': '2025-06-17 12:00:00',\n",
       " 'timeSpan': 43200000}"
      ]
     },
     "execution_count": 14,
     "metadata": {},
     "output_type": "execute_result"
    }
   ],
   "source": [
    "text = '{\"tagName\": \"JCYY:U4_BOILER_EFF\", \"endTimeStr\": \"2025-06-17 12:00:00\", \"timeSpan\": 43200000}'\n",
    "\n",
    "import json\n",
    "json.loads(text)"
   ]
  },
  {
   "cell_type": "code",
   "execution_count": 3,
   "metadata": {},
   "outputs": [
    {
     "data": {
      "text/html": [
       "<div>\n",
       "<style scoped>\n",
       "    .dataframe tbody tr th:only-of-type {\n",
       "        vertical-align: middle;\n",
       "    }\n",
       "\n",
       "    .dataframe tbody tr th {\n",
       "        vertical-align: top;\n",
       "    }\n",
       "\n",
       "    .dataframe thead th {\n",
       "        text-align: right;\n",
       "    }\n",
       "</style>\n",
       "<table border=\"1\" class=\"dataframe\">\n",
       "  <thead>\n",
       "    <tr style=\"text-align: right;\">\n",
       "      <th></th>\n",
       "      <th>value</th>\n",
       "    </tr>\n",
       "    <tr>\n",
       "      <th>timestamp</th>\n",
       "      <th></th>\n",
       "    </tr>\n",
       "  </thead>\n",
       "  <tbody>\n",
       "    <tr>\n",
       "      <th>2025-06-17 12:00:00</th>\n",
       "      <td>1.0</td>\n",
       "    </tr>\n",
       "    <tr>\n",
       "      <th>2025-06-17 12:01:00</th>\n",
       "      <td>1.0</td>\n",
       "    </tr>\n",
       "    <tr>\n",
       "      <th>2025-06-17 12:02:00</th>\n",
       "      <td>1.0</td>\n",
       "    </tr>\n",
       "  </tbody>\n",
       "</table>\n",
       "</div>"
      ],
      "text/plain": [
       "                     value\n",
       "timestamp                 \n",
       "2025-06-17 12:00:00    1.0\n",
       "2025-06-17 12:01:00    1.0\n",
       "2025-06-17 12:02:00    1.0"
      ]
     },
     "execution_count": 3,
     "metadata": {},
     "output_type": "execute_result"
    }
   ],
   "source": [
    "import pandas as pd\n",
    "\n",
    "df =  pd.DataFrame({\n",
    "    'timestamp': ['2025-06-17 12:00:00', '2025-06-17 12:01:00', '2025-06-17 12:02:00'],\n",
    "    'value': [0.95, 0.96, 0.97]\n",
    "})\n",
    "df['timestamp'] = pd.to_datetime(df['timestamp'])\n",
    "df.set_index('timestamp', inplace=True)\n",
    "df.round(1)"
   ]
  },
  {
   "cell_type": "code",
   "execution_count": null,
   "metadata": {},
   "outputs": [],
   "source": [
    "# 读取整个文件内容为字符串\n",
    "with open('文件路径.txt', 'r', encoding='utf-8') as f:\n",
    "    content = f.read()\n",
    "    print(content)\n",
    "\n",
    "# 按行读取文件内容为列表\n",
    "with open('文件路径.txt', 'r', encoding='utf-8') as f:\n",
    "    lines = f.readlines()\n",
    "    for line in lines:\n",
    "        print(line.strip())"
   ]
  },
  {
   "cell_type": "code",
   "execution_count": null,
   "metadata": {},
   "outputs": [],
   "source": [
    "import os\n",
    "os.listdir('/home/zyp/')\n",
    "# var/sandbox/sandbox-python/tmp/"
   ]
  },
  {
   "cell_type": "code",
   "execution_count": 8,
   "metadata": {},
   "outputs": [
    {
     "name": "stdout",
     "output_type": "stream",
     "text": [
      "最新的文件是: echart测试.yml\n"
     ]
    }
   ],
   "source": [
    "import os\n",
    "import glob\n",
    "\n",
    "folder_path = '/home/zyp/Downloads/dify备份'\n",
    "# 获取所有文件的完整路径\n",
    "files = glob.glob(os.path.join(folder_path, '*'))\n",
    "# 判断文件夹是否为空\n",
    "if files:\n",
    "    latest_file = max(files, key=os.path.getmtime)\n",
    "    print('最新的文件是:', os.path.basename(latest_file))\n",
    "else:\n",
    "    print('文件夹为空')"
   ]
  },
  {
   "cell_type": "code",
   "execution_count": 17,
   "metadata": {},
   "outputs": [
    {
     "data": {
      "text/plain": [
       "1752451200000.0"
      ]
     },
     "execution_count": 17,
     "metadata": {},
     "output_type": "execute_result"
    }
   ],
   "source": [
    "import pandas as pd\n",
    "pd.Timestamp('2025-7-14 00:00:00').timestamp() * 1000"
   ]
  },
  {
   "cell_type": "code",
   "execution_count": 5,
   "metadata": {},
   "outputs": [
    {
     "data": {
      "text/plain": [
       "{'c': 2}"
      ]
     },
     "execution_count": 5,
     "metadata": {},
     "output_type": "execute_result"
    }
   ],
   "source": [
    "x = {'a': 1, 'b': -5, 'c': 2}\n",
    "{k: v for k, v in x.items() if v == max(x.values())}"
   ]
  },
  {
   "cell_type": "code",
   "execution_count": 6,
   "metadata": {},
   "outputs": [
    {
     "name": "stdout",
     "output_type": "stream",
     "text": [
      "c\n"
     ]
    }
   ],
   "source": [
    "# get dict key via value\n",
    "key_1 = max(x, key=x.get)\n",
    "print(key_1)  # 输出 'b'"
   ]
  }
 ],
 "metadata": {
  "kernelspec": {
   "display_name": "base",
   "language": "python",
   "name": "python3"
  },
  "language_info": {
   "codemirror_mode": {
    "name": "ipython",
    "version": 3
   },
   "file_extension": ".py",
   "mimetype": "text/x-python",
   "name": "python",
   "nbconvert_exporter": "python",
   "pygments_lexer": "ipython3",
   "version": "3.12.2"
  }
 },
 "nbformat": 4,
 "nbformat_minor": 2
}
