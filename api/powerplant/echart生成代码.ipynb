{
 "cells": [
  {
   "cell_type": "code",
   "execution_count": 2,
   "id": "c1376d56",
   "metadata": {},
   "outputs": [
    {
     "data": {
      "text/plain": [
       "{'2025-06-17 14:00': 94.46,\n",
       " '2025-06-17 16:00': 93.33,\n",
       " '2025-06-17 18:00': 93.62,\n",
       " '2025-06-17 20:00': 93.51,\n",
       " '2025-06-17 22:00': 93.54,\n",
       " '2025-06-18 00:00': 93.73,\n",
       " '2025-06-18 02:00': 94.46,\n",
       " '2025-06-18 04:00': 93.09,\n",
       " '2025-06-18 06:00': 93.37,\n",
       " '2025-06-18 08:00': 93.07,\n",
       " '2025-06-18 10:00': 94.26,\n",
       " '2025-06-18 12:00': 94.27}"
      ]
     },
     "execution_count": 2,
     "metadata": {},
     "output_type": "execute_result"
    }
   ],
   "source": [
    "import json\n",
    "\n",
    "text = \"{\\\"2025-06-17 14:00\\\": 94.46, \\\"2025-06-17 16:00\\\": 93.33, \\\"2025-06-17 18:00\\\": 93.62, \\\"2025-06-17 20:00\\\": 93.51, \\\"2025-06-17 22:00\\\": 93.54, \\\"2025-06-18 00:00\\\": 93.73, \\\"2025-06-18 02:00\\\": 94.46, \\\"2025-06-18 04:00\\\": 93.09, \\\"2025-06-18 06:00\\\": 93.37, \\\"2025-06-18 08:00\\\": 93.07, \\\"2025-06-18 10:00\\\": 94.26, \\\"2025-06-18 12:00\\\": 94.27}\"\n",
    "\n",
    "text_json = json.loads(text, parse_float=lambda x: float(x.replace(',', '.')))\n",
    "\n",
    "text_json"
   ]
  },
  {
   "cell_type": "code",
   "execution_count": 4,
   "id": "05e15210",
   "metadata": {},
   "outputs": [
    {
     "data": {
      "text/plain": [
       "['2025-06-17 14:00',\n",
       " '2025-06-17 16:00',\n",
       " '2025-06-17 18:00',\n",
       " '2025-06-17 20:00',\n",
       " '2025-06-17 22:00',\n",
       " '2025-06-18 00:00',\n",
       " '2025-06-18 02:00',\n",
       " '2025-06-18 04:00',\n",
       " '2025-06-18 06:00',\n",
       " '2025-06-18 08:00',\n",
       " '2025-06-18 10:00',\n",
       " '2025-06-18 12:00']"
      ]
     },
     "execution_count": 4,
     "metadata": {},
     "output_type": "execute_result"
    }
   ],
   "source": [
    "list(text_json.keys())"
   ]
  },
  {
   "cell_type": "code",
   "execution_count": null,
   "id": "81af384a",
   "metadata": {},
   "outputs": [],
   "source": [
    "import json\n",
    "\n",
    "def main(keyword, text):\n",
    "\n",
    "    text_json = json.loads(text, parse_float=lambda x: float(x.replace(',', '.')))\n",
    "\n",
    "    option = {\n",
    "        \"title\": {\n",
    "            \"text\": ''\n",
    "        },\n",
    "    \"dataZoom\": [\n",
    "        {\n",
    "            \"type\": 'slider',\n",
    "            \"show\": True,\n",
    "            \"xAxisIndex\": 0,\n",
    "            \"start\": 0,\n",
    "            \"end\": 100,\n",
    "            \"bottom\": 10,\n",
    "            \"height\": 20,\n",
    "            \"borderColor\": '#ccc',\n",
    "            \"backgroundColor\": '#f5f5f5',\n",
    "            \"fillerColor\": 'rgba(167,183,204,0.4)',\n",
    "            \"handleStyle\": {\n",
    "                \"color\": '#fff',\n",
    "                \"borderColor\": '#ccc'\n",
    "            }\n",
    "        },\n",
    "        {\n",
    "            \"type\": 'inside',\n",
    "            \"xAxisIndex\": 0,\n",
    "            \"start\": 0,\n",
    "            \"end\": 100\n",
    "        }\n",
    "    ],\n",
    "        \"tooltip\": {\n",
    "            \"trigger\": 'axis'\n",
    "        },\n",
    "        \"legend\": {\n",
    "            \"data\": [keyword]\n",
    "        },\n",
    "        \"grid\": {\n",
    "            \"left\": '3%',\n",
    "            \"right\": '4%',\n",
    "            \"bottom\": '3%',\n",
    "            \"containLabel\": True\n",
    "        },\n",
    "        \"toolbox\": {\n",
    "            \"feature\": {\n",
    "            \"saveAsImage\": {}\n",
    "            }\n",
    "        },\n",
    "        \"xAxis\": {\n",
    "            \"type\": 'category',\n",
    "            \"boundaryGap\": False,\n",
    "            \"data\": list(text_json.keys())\n",
    "        },\n",
    "        \"yAxis\": {\n",
    "            \"type\": 'value'\n",
    "        },\n",
    "        \"series\": [\n",
    "            {\n",
    "            \"name\": keyword,\n",
    "            \"type\": 'line',\n",
    "            \"stack\": 'Total',\n",
    "            \"data\": list(text_json.values())\n",
    "            },\n",
    "        ]\n",
    "    };\n",
    " \n",
    "    # 将字典转换为格式化的 JSON 字符串\n",
    "    option_json = json.dumps(option, indent=2, ensure_ascii=False)\n",
    "    \n",
    "    # 构建正确的 Markdown 代码块\n",
    "    output = \"```echarts\\n\" + option_json + \"\\n```\"\n",
    "    \n",
    "    return {\"result\": output}"
   ]
  },
  {
   "cell_type": "code",
   "execution_count": 11,
   "id": "6687842a",
   "metadata": {},
   "outputs": [
    {
     "data": {
      "text/plain": [
       "{'result': '```echarts\\n{\\n  \"title\": {\\n    \"text\": \"中文\"\\n  },\\n  \"tooltip\": {\\n    \"trigger\": \"axis\"\\n  },\\n  \"legend\": {\\n    \"data\": [\\n      \"test\"\\n    ]\\n  },\\n  \"grid\": {\\n    \"left\": \"3%\",\\n    \"right\": \"4%\",\\n    \"bottom\": \"3%\",\\n    \"containLabel\": true\\n  },\\n  \"toolbox\": {\\n    \"feature\": {\\n      \"saveAsImage\": {}\\n    }\\n  },\\n  \"xAxis\": {\\n    \"type\": \"category\",\\n    \"boundaryGap\": false,\\n    \"data\": [\\n      \"2025-06-17 14:00\",\\n      \"2025-06-17 16:00\",\\n      \"2025-06-17 18:00\",\\n      \"2025-06-17 20:00\",\\n      \"2025-06-17 22:00\",\\n      \"2025-06-18 00:00\",\\n      \"2025-06-18 02:00\",\\n      \"2025-06-18 04:00\",\\n      \"2025-06-18 06:00\",\\n      \"2025-06-18 08:00\",\\n      \"2025-06-18 10:00\",\\n      \"2025-06-18 12:00\"\\n    ]\\n  },\\n  \"yAxis\": {\\n    \"type\": \"value\"\\n  },\\n  \"series\": [\\n    {\\n      \"name\": \"test\",\\n      \"type\": \"line\",\\n      \"stack\": \"Total\",\\n      \"data\": [\\n        94.46,\\n        93.33,\\n        93.62,\\n        93.51,\\n        93.54,\\n        93.73,\\n        94.46,\\n        93.09,\\n        93.37,\\n        93.07,\\n        94.26,\\n        94.27\\n      ]\\n    }\\n  ]\\n}\\n```'}"
      ]
     },
     "execution_count": 11,
     "metadata": {},
     "output_type": "execute_result"
    }
   ],
   "source": [
    "main(keyword='test', text=text)"
   ]
  },
  {
   "cell_type": "code",
   "execution_count": null,
   "id": "15ee470c",
   "metadata": {},
   "outputs": [],
   "source": []
  },
  {
   "cell_type": "code",
   "execution_count": 2,
   "id": "53ac215f",
   "metadata": {},
   "outputs": [
    {
     "data": {
      "text/plain": [
       "1.22"
      ]
     },
     "execution_count": 2,
     "metadata": {},
     "output_type": "execute_result"
    }
   ],
   "source": [
    "round(1.222,2)"
   ]
  },
  {
   "cell_type": "code",
   "execution_count": null,
   "id": "744e9515",
   "metadata": {},
   "outputs": [],
   "source": [
    "# 绘制桑基图\n",
    "\n",
    "import json\n",
    "\n",
    "def parse_json(json_str):\n",
    "    \"\"\"\n",
    "    Parses a JSON string and returns a dictionary.\n",
    "    \n",
    "    Parameters:\n",
    "    json_str (str): The JSON string to parse.\n",
    "    \n",
    "    Returns:\n",
    "    dict: Parsed dictionary from the JSON string.\n",
    "    \"\"\"\n",
    "    try:\n",
    "        return json.loads(json_str)\n",
    "    except json.JSONDecodeError as e:\n",
    "        print(f\"Error parsing JSON: {e}\")\n",
    "        return None\n",
    "\n",
    "def main(arg1: str) -> dict:\n",
    "    parsed_json = parse_json(arg1)\n",
    "    loss = {k:round(v, 2) for k, v in parsed_json.items()}\n",
    "\n",
    "    option = {\n",
    "        \"title\": {\n",
    "            \"text\": '锅炉各项损失（%)',\n",
    "            \"left\": 'center',\n",
    "            \"top\": '1%',\n",
    "            \"textStyle\": {\n",
    "                \"fontSize\": 14,\n",
    "                \"fontWeight\": 'bold',\n",
    "            }\n",
    "        },\n",
    "        \"tooltip\": {\n",
    "            \"trigger\": 'item',\n",
    "            \"triggerOn\": 'mousemove'\n",
    "        },\n",
    "        \"series\": {\n",
    "            \"type\": 'sankey',\n",
    "            \"top\": \"10%\", \n",
    "            \"bottom\": \"5%\",\n",
    "            \"emphasis\": {\n",
    "                \"focus\": 'adjacency'\n",
    "            },\n",
    "            \"lineStyle\": {\n",
    "                \"color\": 'source',\n",
    "                \"curveness\": 0.5,\n",
    "                \"opacity\": 0.5, \n",
    "                \"width\": 1\n",
    "            },\n",
    "            \"nodeWidth\": 20,\n",
    "            \"nodeGap\": 8,\n",
    "            \"layoutIterations\": 0,\n",
    "            \"orient\": 'horizontal',\n",
    "            \"data\": [\n",
    "                {\n",
    "                    \"name\": '总输入热量 q',\n",
    "                    \"itemStyle\": {\"color\": \"#84b5d6\"}\n",
    "                },\n",
    "                {\n",
    "                    \"name\": '锅炉吸热量 q1',\n",
    "                    \"itemStyle\": {\"color\": \"#9ece9c\"}\n",
    "                },\n",
    "                {\n",
    "                    \"name\": '排烟热损失 q2',\n",
    "                    \"itemStyle\": {\"color\": \"#a07cb9\"}\n",
    "                },\n",
    "                {\n",
    "                    \"name\": '气体未完全燃烧损失 q3',\n",
    "                    \"itemStyle\": {\"color\": \"#f5cc7c\"}\n",
    "                },\n",
    "                {\n",
    "                    \"name\": '固体未完全燃烧损失 q4',\n",
    "                    \"itemStyle\": {\"color\": \"#eb9679\"}\n",
    "                },\n",
    "                {\n",
    "                    \"name\": '散热损失 q5',\n",
    "                    \"itemStyle\": {\"color\": \"#bcd173\"}\n",
    "                },\n",
    "                {\n",
    "                    \"name\": '不可计量损失 q6',\n",
    "                    \"itemStyle\": {\"color\": \"#a497c5\"}\n",
    "                }\n",
    "            ],\n",
    "            \"links\": [\n",
    "                {\n",
    "                    \"source\": '总输入热量 q',\n",
    "                    \"target\": '锅炉吸热量 q1',\n",
    "                    \"value\": 100 - sum(loss.values())\n",
    "                },\n",
    "                {\n",
    "                    \"source\": '总输入热量 q',\n",
    "                    \"target\": '排烟热损失 q2',\n",
    "                    \"value\": loss['q2']\n",
    "                },\n",
    "                {\n",
    "                    \"source\": '总输入热量 q',\n",
    "                    \"target\": '气体未完全燃烧损失 q3',\n",
    "                    \"value\": loss['q3']\n",
    "                },\n",
    "                {\n",
    "                    \"source\": '总输入热量 q',\n",
    "                    \"target\": '固体未完全燃烧损失 q4',\n",
    "                    \"value\": loss['q4']\n",
    "                },\n",
    "                {\n",
    "                    \"source\": '总输入热量 q',\n",
    "                    \"target\": '散热损失 q5',\n",
    "                    \"value\": loss['q5']\n",
    "                },\n",
    "                {\n",
    "                    \"source\": '总输入热量 q',\n",
    "                    \"target\": '不可计量损失 q6',\n",
    "                    \"value\": loss['q6']\n",
    "                }\n",
    "            ],\n",
    "        }\n",
    "    }\n",
    "    \n",
    " \n",
    "    # 将字典转换为格式化的 JSON 字符串\n",
    "    option_json = json.dumps(option, indent=2, ensure_ascii=False)\n",
    "    \n",
    "    # 构建正确的 Markdown 代码块\n",
    "    output = \"```echarts\\n\" + option_json + \"\\n```\"\n",
    "    \n",
    "    return {\"result\": output}"
   ]
  },
  {
   "cell_type": "code",
   "execution_count": null,
   "id": "1e7f8904",
   "metadata": {},
   "outputs": [],
   "source": [
    "\n"
   ]
  }
 ],
 "metadata": {
  "kernelspec": {
   "display_name": "base",
   "language": "python",
   "name": "python3"
  },
  "language_info": {
   "codemirror_mode": {
    "name": "ipython",
    "version": 3
   },
   "file_extension": ".py",
   "mimetype": "text/x-python",
   "name": "python",
   "nbconvert_exporter": "python",
   "pygments_lexer": "ipython3",
   "version": "3.12.7"
  }
 },
 "nbformat": 4,
 "nbformat_minor": 5
}
